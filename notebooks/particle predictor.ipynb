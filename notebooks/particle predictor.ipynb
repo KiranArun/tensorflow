{
 "cells": [
  {
   "cell_type": "code",
   "execution_count": 27,
   "metadata": {
    "collapsed": true
   },
   "outputs": [],
   "source": [
    "import tensorflow as tf\n",
    "import numpy as np"
   ]
  },
  {
   "cell_type": "code",
   "execution_count": 28,
   "metadata": {
    "collapsed": false,
    "scrolled": true
   },
   "outputs": [],
   "source": [
    "#set parameters\n",
    "#number of lines to train on\n",
    "lines = 10\n",
    "#points in each line\n",
    "points = 10\n",
    "training_steps = 1000\n",
    "learning_rate =  0.00015\n",
    "\n",
    "#x array\n",
    "x = np.linspace(0,points-1,points).astype(np.float32)\n",
    "\n",
    "#data creator function\n",
    "def data_creator():\n",
    "    #initialize y data array\n",
    "    y_data = np.array([])\n",
    "    n = 0\n",
    "    #loop for each different line\n",
    "    for a in range(lines):\n",
    "        #append y data by multiplying x by n\n",
    "        y_data = np.append(y_data, n*x)\n",
    "        #reshape so each line is on a new row\n",
    "        y_data = y_data.reshape(a+1, points)\n",
    "        #each lines M increase\n",
    "        n += 0.1\n",
    "    return y_data\n",
    "\n"
   ]
  },
  {
   "cell_type": "code",
   "execution_count": 29,
   "metadata": {
    "collapsed": false
   },
   "outputs": [
    {
     "name": "stdout",
     "output_type": "stream",
     "text": [
      "[ 0.]\n",
      "[ 0.09999992]\n",
      "[ 0.19999984]\n",
      "[ 0.29999968]\n",
      "[ 0.39999968]\n",
      "[ 0.49999967]\n",
      "[ 0.59999937]\n",
      "[ 0.69999933]\n",
      "[ 0.79999936]\n",
      "[ 0.89999926]\n",
      "[ 0.          0.09999992  0.19999984  0.29999968  0.39999968  0.49999967\n",
      "  0.59999937  0.69999933  0.79999936  0.89999926]\n"
     ]
    }
   ],
   "source": [
    "#initialize weights and weights array to record the weights\n",
    "W = tf.Variable([0.0], tf.float32)\n",
    "weights = np.array([])\n",
    "\n",
    "#start tf session\n",
    "with tf.Session() as sess:\n",
    "    \n",
    "    #initialize variables\n",
    "    init = tf.initialize_all_variables()\n",
    "    sess.run(init)\n",
    "    \n",
    "    #set up equation (y = mx + c with out c because always starting at 0)\n",
    "    output = W*x\n",
    "    \n",
    "    #loop for each different line\n",
    "    for i in range(lines):\n",
    "        \n",
    "        #set up the the the optimizer and losses\n",
    "        y_error = tf.sub(output, data_creator()[i])\n",
    "        loss = tf.nn.l2_loss(y_error)\n",
    "        optimizer = tf.train.GradientDescentOptimizer(learning_rate).minimize(loss)\n",
    "        \n",
    "        #loop for each different line\n",
    "        for _ in range(training_steps):\n",
    "            #update weight\n",
    "            sess.run(optimizer)\n",
    "        #append to weights array\n",
    "        weights = np.append(weights, sess.run(W))\n",
    "            \n",
    "    print(weights)"
   ]
  },
  {
   "cell_type": "code",
   "execution_count": null,
   "metadata": {
    "collapsed": true
   },
   "outputs": [],
   "source": []
  }
 ],
 "metadata": {
  "kernelspec": {
   "display_name": "Python 2",
   "language": "python",
   "name": "python2"
  },
  "language_info": {
   "codemirror_mode": {
    "name": "ipython",
    "version": 2
   },
   "file_extension": ".py",
   "mimetype": "text/x-python",
   "name": "python",
   "nbconvert_exporter": "python",
   "pygments_lexer": "ipython2",
   "version": "2.7.6"
  }
 },
 "nbformat": 4,
 "nbformat_minor": 1
}
