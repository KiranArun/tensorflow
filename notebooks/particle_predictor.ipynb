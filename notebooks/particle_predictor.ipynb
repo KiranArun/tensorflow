{
 "cells": [
  {
   "cell_type": "code",
   "execution_count": 36,
   "metadata": {
    "collapsed": true
   },
   "outputs": [],
   "source": [
    "import tensorflow as tf\n",
    "import numpy as np"
   ]
  },
  {
   "cell_type": "code",
   "execution_count": 37,
   "metadata": {
    "collapsed": false,
    "scrolled": true
   },
   "outputs": [],
   "source": [
    "#set parameters\n",
    "#number of lines to train on\n",
    "lines = 10\n",
    "#points in each line\n",
    "points = 10\n",
    "training_steps = 1000\n",
    "learning_rate =  0.00015\n",
    "\n",
    "#x array\n",
    "x = np.linspace(0,points-1,points).astype(np.float32)\n",
    "\n",
    "#data creator function\n",
    "def data_creator():\n",
    "    #initialize y data array\n",
    "    y_data = np.array([])\n",
    "    n = 0\n",
    "    #loop for each different line\n",
    "    for a in range(lines):\n",
    "        #append y data by multiplying x by n\n",
    "        y_data = np.append(y_data, n*x)\n",
    "        #reshape so each line is on a new row\n",
    "        y_data = y_data.reshape(a+1, points)\n",
    "        #each lines M increase\n",
    "        n += 1\n",
    "    return y_data\n",
    "\n"
   ]
  },
  {
   "cell_type": "code",
   "execution_count": 38,
   "metadata": {
    "collapsed": false
   },
   "outputs": [
    {
     "name": "stdout",
     "output_type": "stream",
     "text": [
      "[  6.88321932e-20   9.99999344e-01   1.99999869e+00   2.99999738e+00\n",
      "   3.99999738e+00   4.99999475e+00   5.99999475e+00   6.99999475e+00\n",
      "   7.99999475e+00   8.99998951e+00]\n"
     ]
    }
   ],
   "source": [
    "#initialize weights and weights array to record the weights\n",
    "W = tf.Variable(np.random.rand(), tf.float32)\n",
    "weights = np.array([])\n",
    "\n",
    "#start tf session\n",
    "with tf.Session() as sess:\n",
    "    \n",
    "    #initialize variables\n",
    "    init = tf.initialize_all_variables()\n",
    "    sess.run(init)\n",
    "    \n",
    "    #set up equation (y = mx + c with out c because always starting at 0)\n",
    "    output = W*x\n",
    "    \n",
    "    #loop for each different line\n",
    "    for i in range(lines):\n",
    "        \n",
    "        #set up the the the optimizer and losses\n",
    "        y_error = tf.sub(output, data_creator()[i])\n",
    "        loss = tf.nn.l2_loss(y_error)\n",
    "        optimizer = tf.train.GradientDescentOptimizer(learning_rate).minimize(loss)\n",
    "        \n",
    "        #loop for each different line\n",
    "        for _ in range(training_steps):\n",
    "            #update weight\n",
    "            sess.run(optimizer)\n",
    "        #append to weights array\n",
    "        weights = np.append(weights, sess.run(W))\n",
    "            \n",
    "    print(weights)"
   ]
  },
  {
   "cell_type": "code",
   "execution_count": 40,
   "metadata": {
    "collapsed": false
   },
   "outputs": [
    {
     "name": "stdout",
     "output_type": "stream",
     "text": [
      "[[  0.   0.   0.   0.   0.   0.   0.   0.   0.   0.]\n",
      " [  0.   1.   2.   3.   4.   5.   6.   7.   8.   9.]\n",
      " [  0.   2.   4.   6.   8.  10.  12.  14.  16.  18.]\n",
      " [  0.   3.   6.   9.  12.  15.  18.  21.  24.  27.]\n",
      " [  0.   4.   8.  12.  16.  20.  24.  28.  32.  36.]\n",
      " [  0.   5.  10.  15.  20.  25.  30.  35.  40.  45.]\n",
      " [  0.   6.  12.  18.  24.  30.  36.  42.  48.  54.]\n",
      " [  0.   7.  14.  21.  28.  35.  42.  49.  56.  63.]\n",
      " [  0.   8.  16.  24.  32.  40.  48.  56.  64.  72.]\n",
      " [  0.   9.  18.  27.  36.  45.  54.  63.  72.  81.]]\n",
      "[[ 0.]\n",
      " [ 1.]\n",
      " [ 2.]\n",
      " [ 3.]\n",
      " [ 4.]\n",
      " [ 5.]\n",
      " [ 6.]\n",
      " [ 7.]\n",
      " [ 8.]\n",
      " [ 9.]]\n"
     ]
    }
   ],
   "source": [
    "data = data_creator()\n",
    "print data\n",
    "weights = np.round(weights.reshape([10,1]), 4)\n",
    "print weights"
   ]
  },
  {
   "cell_type": "code",
   "execution_count": 55,
   "metadata": {
    "collapsed": false
   },
   "outputs": [
    {
     "name": "stdout",
     "output_type": "stream",
     "text": [
      "None\n"
     ]
    }
   ],
   "source": [
    "input_data = np.zeros([5])\n",
    "input_data = np.put(input_data, [0], [1])\n",
    "print input_data"
   ]
  },
  {
   "cell_type": "code",
   "execution_count": null,
   "metadata": {
    "collapsed": true
   },
   "outputs": [],
   "source": []
  }
 ],
 "metadata": {
  "kernelspec": {
   "display_name": "Python 2",
   "language": "python",
   "name": "python2"
  },
  "language_info": {
   "codemirror_mode": {
    "name": "ipython",
    "version": 2
   },
   "file_extension": ".py",
   "mimetype": "text/x-python",
   "name": "python",
   "nbconvert_exporter": "python",
   "pygments_lexer": "ipython2",
   "version": "2.7.6"
  }
 },
 "nbformat": 4,
 "nbformat_minor": 1
}
