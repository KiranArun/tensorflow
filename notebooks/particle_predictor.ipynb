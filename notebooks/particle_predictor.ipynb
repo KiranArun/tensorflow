{
 "cells": [
  {
   "cell_type": "code",
   "execution_count": 2,
   "metadata": {
    "collapsed": true
   },
   "outputs": [],
   "source": [
    "# import tensorflow and numpy\n",
    "import tensorflow as tf\n",
    "import numpy as np"
   ]
  },
  {
   "cell_type": "code",
   "execution_count": 3,
   "metadata": {
    "collapsed": false
   },
   "outputs": [
    {
     "name": "stdout",
     "output_type": "stream",
     "text": [
      "(array([[  0.,   0.,   0.,   0.],\n",
      "       [  1.,   1.,   1.,   1.],\n",
      "       [  2.,   2.,   2.,   2.],\n",
      "       [  3.,   3.,   3.,   3.],\n",
      "       [  4.,   4.,   4.,   4.],\n",
      "       [  0.,   1.,   2.,   3.],\n",
      "       [  1.,   2.,   3.,   4.],\n",
      "       [  2.,   3.,   4.,   5.],\n",
      "       [  3.,   4.,   5.,   6.],\n",
      "       [  4.,   5.,   6.,   7.],\n",
      "       [  0.,   2.,   4.,   6.],\n",
      "       [  1.,   3.,   5.,   7.],\n",
      "       [  2.,   4.,   6.,   8.],\n",
      "       [  3.,   5.,   7.,   9.],\n",
      "       [  4.,   6.,   8.,  10.],\n",
      "       [  0.,   3.,   6.,   9.],\n",
      "       [  1.,   4.,   7.,  10.],\n",
      "       [  2.,   5.,   8.,  11.],\n",
      "       [  3.,   6.,   9.,  12.],\n",
      "       [  4.,   7.,  10.,  13.],\n",
      "       [  0.,   4.,   8.,  12.],\n",
      "       [  1.,   5.,   9.,  13.],\n",
      "       [  2.,   6.,  10.,  14.],\n",
      "       [  3.,   7.,  11.,  15.],\n",
      "       [  4.,   8.,  12.,  16.]]), 25)\n"
     ]
    }
   ],
   "source": [
    "gradients = 5\n",
    "vals = 3\n",
    "iterations = 20000\n",
    "learning_rate = 0.01\n",
    "ex = gradients\n",
    "\n",
    "def training_data():\n",
    "    n = 0\n",
    "    x = np.arange(vals+1).astype(np.int32)\n",
    "    y = np.array([])\n",
    "    for i in range(gradients):\n",
    "        for e in range(ex):\n",
    "            y = np.append(y, x*n+e).reshape((e)+(i*gradients+1),vals+1)\n",
    "\n",
    "        n+=1\n",
    "        \n",
    "    return(y,np.size(y,0))\n",
    "\n",
    "print(training_data())"
   ]
  },
  {
   "cell_type": "code",
   "execution_count": 4,
   "metadata": {
    "collapsed": false
   },
   "outputs": [],
   "source": [
    "data,training_lines = training_data()\n",
    "length = (gradients-1)*(vals+1)+1\n",
    "full_length = length*vals\n",
    "def set_data():\n",
    "    in_data = np.zeros([training_lines,vals,length])\n",
    "    lab = np.zeros([training_lines,1,length])\n",
    "    for i in range(training_lines):\n",
    "        for a in range(vals):\n",
    "            in_data[i][a][data[i][a]] = 1\n",
    "        lab[i][0][data[i][vals]] = 1\n",
    "    in_data = in_data.reshape(training_lines,1,full_length)\n",
    "    return(in_data,lab)    "
   ]
  },
  {
   "cell_type": "code",
   "execution_count": 5,
   "metadata": {
    "collapsed": false
   },
   "outputs": [],
   "source": [
    "x = tf.placeholder(tf.float32, [None, full_length])\n",
    "W = tf.Variable(tf.zeros([full_length, length]))\n",
    "b = tf.Variable(tf.zeros([length]))\n",
    "y = tf.matmul(x, W) + b\n",
    "\n",
    "y_ = tf.placeholder(tf.float32, [None, length])\n",
    "\n",
    "cross_entropy = tf.reduce_mean(tf.nn.softmax_cross_entropy_with_logits(labels=y_, logits=y))\n",
    "train_step = tf.train.GradientDescentOptimizer(learning_rate).minimize(cross_entropy)"
   ]
  },
  {
   "cell_type": "code",
   "execution_count": 6,
   "metadata": {
    "collapsed": false
   },
   "outputs": [
    {
     "name": "stderr",
     "output_type": "stream",
     "text": [
      "/usr/local/lib/python2.7/dist-packages/ipykernel/__main__.py:9: DeprecationWarning: using a non-integer number instead of an integer will result in an error in the future\n",
      "/usr/local/lib/python2.7/dist-packages/ipykernel/__main__.py:10: DeprecationWarning: using a non-integer number instead of an integer will result in an error in the future\n"
     ]
    },
    {
     "name": "stdout",
     "output_type": "stream",
     "text": [
      "0\n",
      "2.79561\n",
      "1000\n",
      "0.272871\n",
      "2000\n",
      "0.10301\n",
      "3000\n",
      "0.061422\n",
      "4000\n",
      "0.0434086\n",
      "5000\n",
      "3.09928\n",
      "6000\n",
      "0.324862\n",
      "7000\n",
      "0.104249\n",
      "8000\n",
      "0.0615834\n",
      "9000\n",
      "0.040009\n",
      "10000\n",
      "4.97567\n",
      "11000\n",
      "0.330349\n",
      "12000\n",
      "0.107215\n",
      "13000\n",
      "0.0563794\n",
      "14000\n",
      "0.0392178\n",
      "15000\n",
      "4.63474\n",
      "16000\n",
      "0.326812\n",
      "17000\n",
      "0.0938911\n",
      "18000\n",
      "0.0550789\n",
      "19000\n",
      "0.0429186\n"
     ]
    }
   ],
   "source": [
    "gpu_options = tf.GPUOptions(per_process_gpu_memory_fraction=0.4)\n",
    "\n",
    "sess = tf.InteractiveSession(config=tf.ConfigProto(gpu_options=gpu_options)) \n",
    "\n",
    "init = tf.initialize_all_variables()\n",
    "sess.run(init)\n",
    "                \n",
    "for _ in range(iterations):\n",
    "\n",
    "    x_data, y_data = set_data()\n",
    "    x_data = x_data[_//(iterations/(training_lines-1))]\n",
    "    y_data = y_data[_//(iterations/(training_lines-1))]\n",
    "    \n",
    "    sess.run(train_step, feed_dict={x: x_data, y_: y_data})\n",
    "\n",
    "    if _ % 1000 == 0:\n",
    "        print(_)\n",
    "        print(sess.run(cross_entropy, feed_dict={x: x_data, y_: y_data}))"
   ]
  },
  {
   "cell_type": "code",
   "execution_count": 11,
   "metadata": {
    "collapsed": false,
    "scrolled": true
   },
   "outputs": [
    {
     "name": "stdout",
     "output_type": "stream",
     "text": [
      "('value', 0, '?')3\n",
      "('value', 1, '?')6\n",
      "('value', 2, '?')9\n"
     ]
    },
    {
     "name": "stderr",
     "output_type": "stream",
     "text": [
      "/usr/local/lib/python2.7/dist-packages/ipykernel/__main__.py:9: DeprecationWarning: using a non-integer number instead of an integer will result in an error in the future\n"
     ]
    },
    {
     "data": {
      "text/plain": [
       "array([[ 0.,  0.,  0.,  1.,  0.,  0.,  0.,  0.,  0.,  0.,  0.,  0.,  0.,\n",
       "         0.,  0.,  0.,  0.,  0.,  0.,  0.,  0.,  0.,  0.,  1.,  0.,  0.,\n",
       "         0.,  0.,  0.,  0.,  0.,  0.,  0.,  0.,  0.,  0.,  0.,  0.,  0.,\n",
       "         0.,  0.,  0.,  0.,  1.,  0.,  0.,  0.,  0.,  0.,  0.,  0.]])"
      ]
     },
     "execution_count": 11,
     "metadata": {},
     "output_type": "execute_result"
    }
   ],
   "source": [
    "test_line = np.array([])\n",
    "for i in range(vals):\n",
    "    val = int(input(('value',i,'?')))\n",
    "    test_line = np.append(test_line, val)\n",
    "def test_model():\n",
    "    input_array = np.array([])\n",
    "    for a in range(vals):\n",
    "        test_array = np.zeros([1,length])\n",
    "        test_array[0][test_line[a]] = 1\n",
    "        input_array = np.append(input_array, test_array).reshape([1,(a+1)*length])\n",
    "    return(input_array)        \n",
    "test_model()"
   ]
  },
  {
   "cell_type": "code",
   "execution_count": 12,
   "metadata": {
    "collapsed": false
   },
   "outputs": [
    {
     "name": "stdout",
     "output_type": "stream",
     "text": [
      "[[-0.9925347  -1.07847381 -1.18294406 -0.0151965  -1.48708689 -1.05759811\n",
      "   0.06485161 -1.77753687 -0.99015093  0.18448338 -0.03121322 -0.98118514\n",
      "   4.50694656  1.18209553  2.32715368  2.4466424  -1.1182456 ]]\n",
      "Learnt answer = 12\n",
      "Probaility of 12 = 4.50695\n",
      "numerical answer = 12.0\n",
      "probability of 12.0 = 4.50695\n"
     ]
    },
    {
     "name": "stderr",
     "output_type": "stream",
     "text": [
      "/usr/local/lib/python2.7/dist-packages/ipykernel/__main__.py:9: DeprecationWarning: using a non-integer number instead of an integer will result in an error in the future\n",
      "/usr/local/lib/python2.7/dist-packages/ipykernel/__main__.py:7: DeprecationWarning: using a non-integer number instead of an integer will result in an error in the future\n"
     ]
    }
   ],
   "source": [
    "probs = sess.run(y, feed_dict={x:test_model()})\n",
    "print(probs)\n",
    "print \"Learnt answer =\", np.argmax(probs)\n",
    "print 'Probaility of', np.argmax(probs), '=', probs[0][np.argmax(probs)]\n",
    "answer = (test_line[1]-test_line[0])+test_line[vals-1]\n",
    "print \"numerical answer =\", answer\n",
    "print 'probability of', answer, '=', probs[0][answer]"
   ]
  },
  {
   "cell_type": "markdown",
   "metadata": {},
   "source": []
  }
 ],
 "metadata": {
  "kernelspec": {
   "display_name": "Python 2",
   "language": "python",
   "name": "python2"
  },
  "language_info": {
   "codemirror_mode": {
    "name": "ipython",
    "version": 2
   },
   "file_extension": ".py",
   "mimetype": "text/x-python",
   "name": "python",
   "nbconvert_exporter": "python",
   "pygments_lexer": "ipython2",
   "version": "2.7.6"
  }
 },
 "nbformat": 4,
 "nbformat_minor": 1
}
