{
 "cells": [
  {
   "cell_type": "code",
   "execution_count": 73,
   "metadata": {
    "collapsed": true
   },
   "outputs": [],
   "source": [
    "# import tensorflow and numpy\n",
    "import tensorflow as tf\n",
    "import numpy as np"
   ]
  },
  {
   "cell_type": "code",
   "execution_count": 74,
   "metadata": {
    "collapsed": false
   },
   "outputs": [
    {
     "name": "stdout",
     "output_type": "stream",
     "text": [
      "(array([[  0.,   0.,   0.,   0.],\n",
      "       [  1.,   1.,   1.,   1.],\n",
      "       [  2.,   2.,   2.,   2.],\n",
      "       ..., \n",
      "       [ 43.,  50.,  57.,  64.],\n",
      "       [ 44.,  51.,  58.,  65.],\n",
      "       [ 45.,  52.,  59.,  66.]]), 452)\n"
     ]
    }
   ],
   "source": [
    "# setup the parameters\n",
    "# number of different M's\n",
    "gradients = 8\n",
    "# number of input values\n",
    "vals = 3\n",
    "iterations = 5000\n",
    "learning_rate = 0.1\n",
    "\n",
    "# maximum answer to be learnt\n",
    "max = gradients**2 + vals\n",
    "\n",
    "# defining function to make training data\n",
    "def training_data():\n",
    "    \n",
    "    n = 0\n",
    "    rows = 1\n",
    "    # array which we are using as our x values \n",
    "    # in equation of linear line, y = Mx + b\n",
    "    # it includes 1 extra value as this will be used as our labal\n",
    "    x = np.arange(vals+1).astype(np.int32)\n",
    "    # empty array to write our training data to\n",
    "    y = np.array([])\n",
    "    \n",
    "    # loop so it cycles through every gradient and adds on different b's\n",
    "    for i in range(gradients):\n",
    "        # we loop it so it also creates lines with b's\n",
    "        # the maximum values will always be gradients^2\n",
    "        for e in range(max-vals*i):\n",
    "            \n",
    "            # append to y, x*n + e, where n = M and e = b\n",
    "            # reshape so that each time it appends it creates a new line\n",
    "            y = np.append(y, x*n+e).reshape(rows,vals+1)\n",
    "            \n",
    "            # increase number of rows to reshape it\n",
    "            rows += 1\n",
    "        \n",
    "        # increase gradient by 1\n",
    "        n+=1\n",
    "        \n",
    "    # return the training data\n",
    "    # and number of lines to learn\n",
    "    return(y,np.size(y,0))\n",
    "\n",
    "# print the training data\n",
    "print(training_data())"
   ]
  },
  {
   "cell_type": "code",
   "execution_count": 75,
   "metadata": {
    "collapsed": false
   },
   "outputs": [],
   "source": [
    "# data = training data\n",
    "# training lines = number of different lines\n",
    "data,training_lines = training_data()\n",
    "\n",
    "# the length is for when we convert the numbers into a binary array\n",
    "# the array will be all zeros except one, which will be 1\n",
    "# this will be the particle in this point in time\n",
    "# each one is like a frame in a video\n",
    "# this value is the size of the maximum value + 1\n",
    "length = max+1\n",
    "\n",
    "# the full length is the length of all the input frames stacked into one, 1d array\n",
    "full_length = length*vals\n",
    "\n",
    "# this function turns the data into the arrays explained above\n",
    "def set_data():\n",
    "    \n",
    "    # there are two arrays, one for training data nad one for labels\n",
    "    in_data = np.zeros([training_lines,vals,length])\n",
    "    # the labels will be one-hot arrays\n",
    "    lab = np.zeros([training_lines,1,length])\n",
    "    \n",
    "    # this sets the values specified in the training data to one\n",
    "    for i in range(training_lines):\n",
    "        # we need to set each individual input value\n",
    "        for a in range(vals):\n",
    "            # set the value to a 1\n",
    "            in_data[i][a][data[i][a]] = 1\n",
    "            \n",
    "        # set the label value to a 1\n",
    "        lab[i][0][data[i][vals]] = 1\n",
    "        \n",
    "    # here, we reshape it tto the full length 1d array\n",
    "    in_data = in_data.reshape(training_lines,1,full_length)\n",
    "    \n",
    "    # return the data and labels\n",
    "    return(in_data,lab)    \n",
    "\n",
    "# print converted data\n",
    "#print(set_data())"
   ]
  },
  {
   "cell_type": "code",
   "execution_count": 76,
   "metadata": {
    "collapsed": true
   },
   "outputs": [],
   "source": [
    "# we define the weights, biases and inputs\n",
    "# this will be input training data\n",
    "x = tf.placeholder(tf.float32, [None, full_length])\n",
    "# weights and biases\n",
    "W = tf.Variable(tf.zeros([full_length, length]))\n",
    "b = tf.Variable(tf.zeros([length]))\n",
    "# function which gives the out put of training data\n",
    "y = tf.matmul(x, W) + b\n",
    "\n",
    "# we will feed the labels in here\n",
    "y_ = tf.placeholder(tf.float32, [None, length])\n",
    "\n",
    "# configure the loss function, using cross entropy\n",
    "cross_entropy = tf.reduce_mean(tf.nn.softmax_cross_entropy_with_logits(labels=y_, logits=y))\n",
    "# define the optimizer\n",
    "#train_step = tf.train.GradientDescentOptimizer(learning_rate).minimize(cross_entropy)\n",
    "train_step = tf.train.AdagradOptimizer(learning_rate).minimize(cross_entropy)\n"
   ]
  },
  {
   "cell_type": "code",
   "execution_count": 77,
   "metadata": {
    "collapsed": false
   },
   "outputs": [
    {
     "name": "stderr",
     "output_type": "stream",
     "text": [
      "Exception AssertionError: AssertionError(\"Nesting violated for default stack of <type 'weakref'> objects\",) in <bound method InteractiveSession.__del__ of <tensorflow.python.client.session.InteractiveSession object at 0x7fad6d93d650>> ignored\n",
      "/usr/local/lib/python2.7/dist-packages/ipykernel/__main__.py:28: DeprecationWarning: using a non-integer number instead of an integer will result in an error in the future\n",
      "/usr/local/lib/python2.7/dist-packages/ipykernel/__main__.py:31: DeprecationWarning: using a non-integer number instead of an integer will result in an error in the future\n",
      "/usr/local/lib/python2.7/dist-packages/ipykernel/__main__.py:19: DeprecationWarning: using a non-integer number instead of an integer will result in an error in the future\n",
      "/usr/local/lib/python2.7/dist-packages/ipykernel/__main__.py:20: DeprecationWarning: using a non-integer number instead of an integer will result in an error in the future\n"
     ]
    },
    {
     "name": "stdout",
     "output_type": "stream",
     "text": [
      "step 0 out of 5000\n",
      "error = 3.82726\n",
      "step 250 out of 5000\n",
      "error = 2.94674\n",
      "step 500 out of 5000\n",
      "error = 4.30975\n",
      "step 750 out of 5000\n",
      "error = 2.25513\n",
      "step 1000 out of 5000\n",
      "error = 3.50557\n",
      "step 1250 out of 5000\n",
      "error = 2.93316\n",
      "step 1500 out of 5000\n",
      "error = 3.13457\n",
      "step 1750 out of 5000\n",
      "error = 2.60563\n",
      "step 2000 out of 5000\n",
      "error = 3.47502\n",
      "step 2250 out of 5000\n",
      "error = 2.45028\n",
      "step 2500 out of 5000\n",
      "error = 3.20691\n",
      "step 2750 out of 5000\n",
      "error = 4.24775\n",
      "step 3000 out of 5000\n",
      "error = 3.03115\n",
      "step 3250 out of 5000\n",
      "error = 3.93519\n",
      "step 3500 out of 5000\n",
      "error = 2.88351\n",
      "step 3750 out of 5000\n",
      "error = 3.68361\n",
      "step 4000 out of 5000\n",
      "error = 2.83238\n",
      "step 4250 out of 5000\n",
      "error = 3.57551\n",
      "step 4500 out of 5000\n",
      "error = 2.82545\n",
      "step 4750 out of 5000\n",
      "error = 3.43611\n"
     ]
    }
   ],
   "source": [
    "# I am using a GPU\n",
    "# this line limits memory usage of the GPU to 0.4 when session is created\n",
    "gpu_options = tf.GPUOptions(per_process_gpu_memory_fraction=0.4)\n",
    "\n",
    "# create interactive session using the GPU line for above\n",
    "sess = tf.InteractiveSession(config=tf.ConfigProto(gpu_options=gpu_options)) \n",
    "\n",
    "# initialize variables\n",
    "init = tf.initialize_all_variables()\n",
    "sess.run(init)\n",
    "\n",
    "# now we run the learning loop\n",
    "for _ in range(iterations):\n",
    "\n",
    "    # set training data and labels\n",
    "    x_data, y_data = set_data()\n",
    "    # only use one lines data\n",
    "    # chooses line data by evenly spreading data over iterations\n",
    "    x_data = x_data[_//(iterations/(training_lines-1.))]\n",
    "    y_data = y_data[_//(iterations/(training_lines-1.))]\n",
    "    \n",
    "    # run the training optimizer\n",
    "    sess.run(train_step, feed_dict={x: x_data, y_: y_data})\n",
    "\n",
    "    # print steps and error 20 times in total\n",
    "    if _ % (iterations/20) == 0:\n",
    "        print 'step', _, 'out of', iterations\n",
    "        print 'error =', sess.run(cross_entropy, feed_dict={x: x_data, y_: y_data})"
   ]
  },
  {
   "cell_type": "code",
   "execution_count": 89,
   "metadata": {
    "collapsed": false,
    "scrolled": true
   },
   "outputs": [
    {
     "name": "stdout",
     "output_type": "stream",
     "text": [
      "input values, the max answer is 66 and max gradient is 7\n",
      "\n",
      "value 1 ?\n",
      "4\n",
      "\n",
      "value 2 ?\n",
      "7\n",
      "\n",
      "value 3 ?\n",
      "10\n"
     ]
    }
   ],
   "source": [
    "# initialize array to record test values\n",
    "test_line = np.array([])\n",
    "\n",
    "print 'input values, the max answer is', max-1, 'and max gradient is', gradients-1\n",
    "# loop to ask user for input values\n",
    "for i in range(vals):\n",
    "    print '\\nvalue',i+1,'?'\n",
    "    val = int(input())\n",
    "    test_line = np.append(test_line, val)\n",
    "    \n",
    "# define function to convert test data into shape and form\n",
    "# of training data\n",
    "def test_model():\n",
    "    \n",
    "    # this is the array we are writing to\n",
    "    input_array = np.array([])\n",
    "    \n",
    "    # for each input value, write to the input array\n",
    "    # with a 1 in the position\n",
    "    for a in range(vals):\n",
    "        test_array = np.zeros([1,length])\n",
    "        test_array[0][test_line[a]] = 1\n",
    "        # we write to array and shape so new line for each test value\n",
    "        input_array = np.append(input_array, test_array).reshape([1,(a+1)*length])\n",
    "        \n",
    "    # return array\n",
    "    return(input_array)   \n",
    "\n",
    "# print array\n",
    "#test_model()"
   ]
  },
  {
   "cell_type": "code",
   "execution_count": 90,
   "metadata": {
    "collapsed": false
   },
   "outputs": [
    {
     "name": "stdout",
     "output_type": "stream",
     "text": [
      "Correct\n",
      "\n",
      "Learnt answer = 13\n",
      "Probaility of 13 = 0.227527\n",
      "\n",
      "\n",
      "[[-2.43150401 -2.43089914 -2.45777893 -2.28208876 -1.47944534 -2.3238368\n",
      "  -2.29417443 -0.61541188 -2.38377047 -1.45296788 -0.61892581 -0.64483106\n",
      "  -1.48791277  0.22752672 -1.56141245 -0.72349226 -1.24955654 -1.29813552\n",
      "  -1.95056093 -0.46187204 -1.82984757 -1.15099359 -0.9884187  -1.67166162\n",
      "  -1.62128758 -1.02713811 -1.59207892 -1.59119034 -1.59703135 -1.60325575\n",
      "  -1.60747218 -1.59138656 -1.61348999 -1.6103518  -1.61771011 -1.62432182\n",
      "  -1.621665   -1.63110733 -1.63466907 -1.63310277 -1.63866162 -1.64463305\n",
      "  -1.62989402 -1.65096354 -1.65437484 -1.64905941 -1.65644336 -1.6631465\n",
      "  -1.65816164 -1.66686332 -1.67091131 -1.66394722 -1.67231011 -1.67609763\n",
      "  -1.65633488 -1.67305255 -1.66873622 -1.67283106 -1.67604983 -1.67173648\n",
      "  -1.66732168 -1.65827727 -1.65025318 -1.64235377 -1.63479066 -1.61435723\n",
      "  -1.74271464 -4.11043406]]\n"
     ]
    },
    {
     "name": "stderr",
     "output_type": "stream",
     "text": [
      "/usr/local/lib/python2.7/dist-packages/ipykernel/__main__.py:22: DeprecationWarning: using a non-integer number instead of an integer will result in an error in the future\n"
     ]
    }
   ],
   "source": [
    "# run the function to get output\n",
    "# using new weights nad biases\n",
    "probs = sess.run(y, feed_dict={x:test_model()})\n",
    "\n",
    "# \"true\" answer, should work with all linear lines\n",
    "answer = (test_line[1]-test_line[0])+test_line[vals-1]\n",
    "\n",
    "if answer == np.argmax(probs):\n",
    "    print 'Correct'\n",
    "    \n",
    "    # print learnt answer and it probability\n",
    "    print '\\nLearnt answer =', np.argmax(probs)\n",
    "    print 'Probaility of', np.argmax(probs), '=', probs[0][np.argmax(probs)]\n",
    "else:\n",
    "    print 'Wrong'\n",
    "    \n",
    "    # print learnt answer and it probability\n",
    "    print '\\nLearnt answer =', np.argmax(probs)\n",
    "    print 'Probaility of', np.argmax(probs), '=', probs[0][np.argmax(probs)]\n",
    "    \n",
    "    # print true answer and its probabilities\n",
    "    print '\\nNumerical answer =', answer\n",
    "    print 'Probability of', answer, '=', probs[0][answer]\n",
    "    \n",
    "\n",
    "# print the probabilities\n",
    "print '\\n\\n', probs"
   ]
  },
  {
   "cell_type": "markdown",
   "metadata": {},
   "source": []
  }
 ],
 "metadata": {
  "kernelspec": {
   "display_name": "Python 2",
   "language": "python",
   "name": "python2"
  },
  "language_info": {
   "codemirror_mode": {
    "name": "ipython",
    "version": 2
   },
   "file_extension": ".py",
   "mimetype": "text/x-python",
   "name": "python",
   "nbconvert_exporter": "python",
   "pygments_lexer": "ipython2",
   "version": "2.7.6"
  }
 },
 "nbformat": 4,
 "nbformat_minor": 1
}
