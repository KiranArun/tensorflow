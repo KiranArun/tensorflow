{
 "cells": [
  {
   "cell_type": "code",
   "execution_count": null,
   "metadata": {
    "collapsed": true
   },
   "outputs": [],
   "source": [
    "import tensorflow as tf\n",
    "import numpy as np"
   ]
  },
  {
   "cell_type": "code",
   "execution_count": null,
   "metadata": {
    "collapsed": false
   },
   "outputs": [],
   "source": [
    "# must add new line for setting the data\n",
    "# x4[i,x_data[3]] = 1\n",
    "training_lines = 10\n",
    "vals = 4\n",
    "iterations = 1200\n",
    "\n",
    "def training_data():\n",
    "    n = 0\n",
    "    x = np.arange(vals+1).astype(np.int32)\n",
    "    y = np.array([])\n",
    "    for i in range(training_lines):\n",
    "        y = np.append(y, x*n).reshape(i+1,vals+1)\n",
    "        n+=1\n",
    "        \n",
    "    return(y)\n",
    "\n",
    "print(training_data())"
   ]
  },
  {
   "cell_type": "code",
   "execution_count": null,
   "metadata": {
    "collapsed": false
   },
   "outputs": [],
   "source": [
    "data = training_data()\n",
    "length = (training_lines-1)*(vals+1)*vals\n",
    "def set_data():\n",
    "    in_data = np.zeros([training_lines,vals,(training_lines-1)*(vals+1)])\n",
    "    lab = np.zeros([training_lines,1,(training_lines-1)*(vals+1)])\n",
    "    for i in range(training_lines):\n",
    "        for a in range(vals):\n",
    "            in_data[i][a][data[i][a]] = 1\n",
    "        lab[i][0][data[i][vals]] = 1\n",
    "    in_data = in_data.reshape(training_lines,1,length)\n",
    "    return(in_data,lab)    \n",
    "\n",
    "print(set_data())"
   ]
  },
  {
   "cell_type": "code",
   "execution_count": null,
   "metadata": {
    "collapsed": true
   },
   "outputs": [],
   "source": [
    "x = tf.placeholder(tf.float32, [None, length])\n",
    "W = tf.Variable(tf.zeros([length, (training_lines-1)*(vals+1)]))\n",
    "b = tf.Variable(tf.zeros([(training_lines-1)*(vals+1)]))\n",
    "y = tf.matmul(x, W) + b\n",
    "\n",
    "y_ = tf.placeholder(tf.float32, [None, (training_lines-1)*(vals+1)])\n",
    "\n",
    "cross_entropy = tf.reduce_mean(tf.nn.softmax_cross_entropy_with_logits(labels=y_, logits=y))\n",
    "train_step = tf.train.GradientDescentOptimizer(0.01).minimize(cross_entropy)"
   ]
  },
  {
   "cell_type": "code",
   "execution_count": null,
   "metadata": {
    "collapsed": false
   },
   "outputs": [],
   "source": [
    "gpu_options = tf.GPUOptions(per_process_gpu_memory_fraction=0.4)\n",
    "\n",
    "sess = tf.InteractiveSession(config=tf.ConfigProto(gpu_options=gpu_options)) \n",
    "\n",
    "init = tf.initialize_all_variables()\n",
    "sess.run(init)\n",
    "                \n",
    "for _ in range(iterations):\n",
    "    if _ % (iterations/training_lines) == 0:\n",
    "        x_data, y_data = set_data()\n",
    "        x_data = x_data[iterations/(iterations/training_lines+_)-1]\n",
    "        y_data = y_data[iterations/(iterations/training_lines+_)-1]\n",
    "\n",
    "    sess.run(train_step, feed_dict={x: x_data, y_: y_data})\n",
    "        \n",
    "    if _ % 100 == 0:\n",
    "        print(_)\n",
    "        print(sess.run(cross_entropy, feed_dict={x: x_data, y_: y_data}))"
   ]
  },
  {
   "cell_type": "code",
   "execution_count": null,
   "metadata": {
    "collapsed": false
   },
   "outputs": [],
   "source": [
    "test_line = np.array([])\n",
    "for i in range(vals):\n",
    "    val = int(input((\"value\",i,'?'))\n",
    "    test_line = np.append(test_line, val)\n",
    "def test_model():\n",
    "    input_array = np.array([])\n",
    "    for a in range(vals):\n",
    "        test_array = np.zeros([1,(training_lines-1)*(vals+1)])\n",
    "        test_array[0][test_line[a]] = 1\n",
    "        input_array = np.append(input_array, test_array).reshape([1,(a+1)*(training_lines-1)*(vals+1)])\n",
    "    return(input_array)        \n",
    "test_model()"
   ]
  },
  {
   "cell_type": "code",
   "execution_count": null,
   "metadata": {
    "collapsed": false
   },
   "outputs": [],
   "source": [
    "probs = sess.run(y, feed_dict={x:test_model()})\n",
    "print(probs)\n",
    "print(np.argmax(probs))\n",
    "answer = (test_line[1]-test_line[0])+test_line[vals-1]\n",
    "print \"answer =\", answer\n",
    "print 'probability of', answer, '=', probs[0][answer]"
   ]
  },
  {
   "cell_type": "code",
   "execution_count": null,
   "metadata": {
    "collapsed": true
   },
   "outputs": [],
   "source": []
  }
 ],
 "metadata": {
  "kernelspec": {
   "display_name": "Python 2",
   "language": "python",
   "name": "python2"
  },
  "language_info": {
   "codemirror_mode": {
    "name": "ipython",
    "version": 2
   },
   "file_extension": ".py",
   "mimetype": "text/x-python",
   "name": "python",
   "nbconvert_exporter": "python",
   "pygments_lexer": "ipython2",
   "version": "2.7.6"
  }
 },
 "nbformat": 4,
 "nbformat_minor": 1
}
