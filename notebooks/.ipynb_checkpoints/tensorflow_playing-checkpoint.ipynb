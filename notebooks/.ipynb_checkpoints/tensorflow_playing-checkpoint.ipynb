{
 "cells": [
  {
   "cell_type": "markdown",
   "metadata": {},
   "source": [
    "# My notebook for playing with tensorflow"
   ]
  },
  {
   "cell_type": "code",
   "execution_count": 1,
   "metadata": {},
   "outputs": [],
   "source": [
    "import numpy as np\n",
    "import time\n",
    "import matplotlib.pyplot as plt\n",
    "import tensorflow as tf\n",
    "from IPython import display\n",
    "import sklearn as skl\n",
    "%matplotlib inline"
   ]
  },
  {
   "cell_type": "markdown",
   "metadata": {},
   "source": [
    "#### code to print 10 random integers from 1 to 10 all squared in tensorflow"
   ]
  },
  {
   "cell_type": "code",
   "execution_count": 2,
   "metadata": {},
   "outputs": [
    {
     "name": "stdout",
     "output_type": "stream",
     "text": [
      "[16  1  9 49 64  4  4 16  1 16]\n"
     ]
    }
   ],
   "source": [
    "#make up some random data in a numpy array\n",
    "data = np.random.randint(1,10, size=10)\n",
    "\n",
    "#x is a constant with the values of data\n",
    "x = tf.constant(data)\n",
    "#y is a variable with the value x^2\n",
    "y = tf.Variable(x**2)\n",
    "\n",
    "#initialize all vairables is when it first runs the lines of the variable above\n",
    "model = tf.global_variables_initializer()\n",
    "\n",
    "#run session, session is needed as this is when it actually completes the commands\n",
    "with tf.Session() as sess:\n",
    "    #run the global variable initializer\n",
    "    sess.run(model)\n",
    "    #print y from in the session\n",
    "    print(sess.run(y))"
   ]
  },
  {
   "cell_type": "markdown",
   "metadata": {},
   "source": [
    "#### code for tensorflow loop where each loop $(x+1)^2$"
   ]
  },
  {
   "cell_type": "code",
   "execution_count": 3,
   "metadata": {},
   "outputs": [
    {
     "name": "stdout",
     "output_type": "stream",
     "text": [
      "1\n",
      "4\n",
      "9\n",
      "16\n",
      "25\n"
     ]
    }
   ],
   "source": [
    "#set up x and y as variables witt value 0\n",
    "x = tf.Variable(0)\n",
    "y = tf.Variable(0)\n",
    "\n",
    "#set model to initialize variables\n",
    "model = tf.global_variables_initializer()\n",
    "\n",
    "#run session\n",
    "with tf.Session() as sess:\n",
    "    \n",
    "    #run the global variables  initializer\n",
    "    sess.run(model)\n",
    "    \n",
    "    #loop 5 times within session\n",
    "    for i in range(5):\n",
    "    \n",
    "        #update values of x and y\n",
    "        x += 1\n",
    "        y = x**2\n",
    "        \n",
    "        #print y\n",
    "        print(sess.run(y))"
   ]
  },
  {
   "cell_type": "markdown",
   "metadata": {},
   "source": [
    "#### tensorfow loop where it creates random value and prints out  ann updated average of the random digits"
   ]
  },
  {
   "cell_type": "code",
   "execution_count": 4,
   "metadata": {},
   "outputs": [
    {
     "name": "stdout",
     "output_type": "stream",
     "text": [
      "416\n",
      "403\n",
      "310\n",
      "476\n",
      "523\n"
     ]
    }
   ],
   "source": [
    "#set up tensorflow variables to 0\n",
    "num = tf.Variable(0)\n",
    "ave = tf.Variable(0)\n",
    "tot = tf.Variable(0)\n",
    "\n",
    "#set model to initialize variables\n",
    "model = tf.global_variables_initializer()\n",
    "\n",
    "#run session\n",
    "with tf.Session() as sess:\n",
    "    \n",
    "    #initialize variables\n",
    "    sess.run(model)\n",
    "    \n",
    "    #loop 5 times\n",
    "    for i in range(5):\n",
    "        \n",
    "        #calculate and  set variables values\n",
    "        num += 1\n",
    "        ran = np.random.randint(1000)\n",
    "        tot = tot+ran\n",
    "        average = tot/num\n",
    "        \n",
    "        #print average\n",
    "        print(sess.run(average))"
   ]
  },
  {
   "cell_type": "markdown",
   "metadata": {},
   "source": [
    "#### uses tensorboard and logs the data in /home/logdir"
   ]
  },
  {
   "cell_type": "code",
   "execution_count": 5,
   "metadata": {},
   "outputs": [
    {
     "name": "stdout",
     "output_type": "stream",
     "text": [
      "40\n"
     ]
    }
   ],
   "source": [
    "#define variables\n",
    "x = tf.constant(35)\n",
    "y = tf.Variable(x + 5)\n",
    "\n",
    "#variable initializer\n",
    "model =  tf.global_variables_initializer()\n",
    "\n",
    "#run session\n",
    "with tf.Session() as sess:\n",
    "    \n",
    "    #using tensorboard,writing to directory /home/logdir\n",
    "    merged = tf.summary.merge_all()\n",
    "    writer = tf.summary.FileWriter(\"/home/logdir\", sess.graph)\n",
    "\n",
    "    #run the model and print output\n",
    "    sess.run(model)\n",
    "    print(sess.run(y))"
   ]
  },
  {
   "cell_type": "markdown",
   "metadata": {},
   "source": [
    "#### example of using placeholders"
   ]
  },
  {
   "cell_type": "code",
   "execution_count": 6,
   "metadata": {},
   "outputs": [
    {
     "name": "stdout",
     "output_type": "stream",
     "text": [
      "[ 1.  4.  9.]\n"
     ]
    }
   ],
   "source": [
    "#x is a place holder, 3 is the number of values ofthe  placeholder\n",
    "x = tf.placeholder(\"float\", 3)\n",
    "square = x ** 2\n",
    "\n",
    "#run session\n",
    "with tf.Session() as sess:\n",
    "    #result equals y with x being given the values of 1, 2 and 3\n",
    "    result = sess.run(square, feed_dict={x: [1, 2, 3]})\n",
    "    print(result)"
   ]
  },
  {
   "cell_type": "markdown",
   "metadata": {},
   "source": [
    "#### Interactive Sessions\n",
    "\n",
    "if there is already a session running it will use that but if it is a fresh kernal it will need this session"
   ]
  },
  {
   "cell_type": "code",
   "execution_count": 18,
   "metadata": {},
   "outputs": [
    {
     "name": "stdout",
     "output_type": "stream",
     "text": [
      "[[-1.16674513  0.07046588  2.68909485]\n",
      " [-2.95719171 -1.41545754  0.27649172]\n",
      " [ 1.4410921  -1.41243649 -0.35895217]\n",
      " [-0.21562654  0.86923509 -2.00050152]\n",
      " [ 0.26396882 -0.76427279  0.55739216]\n",
      " [ 2.5576366  -1.40562566 -1.61091455]\n",
      " [ 1.09796962  0.32380876 -1.58085821]\n",
      " [ 0.27559044 -1.7667023  -0.29377744]\n",
      " [-0.41036859 -1.05423438  0.85175779]\n",
      " [-0.98196339  1.0526539  -1.11529439]]\n"
     ]
    }
   ],
   "source": [
    "# make interactive session\n",
    "sess = tf.InteractiveSession()\n",
    "\n",
    "# create variablesor constants\n",
    "# variables will need initializer like:\n",
    "# X.initializer.run()\n",
    "X = tf.constant(np.eye(10))\n",
    "Y = tf.constant(np.random.randn(10, 3))\n",
    "\n",
    "Z = tf.matmul(X, Y)\n",
    "print Z.eval()\n",
    "\n",
    "sess.close()"
   ]
  },
  {
   "cell_type": "markdown",
   "metadata": {},
   "source": [
    "#### messing about with different tensors and matrices addition"
   ]
  },
  {
   "cell_type": "code",
   "execution_count": 8,
   "metadata": {},
   "outputs": [
    {
     "name": "stdout",
     "output_type": "stream",
     "text": [
      "[[[ 2  4  6]\n",
      "  [ 8 10 12]]\n",
      "\n",
      " [[ 2  4  6]\n",
      "  [ 8 10 12]]]\n"
     ]
    }
   ],
   "source": [
    "a = tf.constant([[[1,2,3], [4,5,6]],[[1,2,3], [4,5,6]]])\n",
    "b = tf.constant([[[1,2,3], [4,5,6]],[[1,2,3], [4,5,6]]])\n",
    "sum = a + b\n",
    "\n",
    "with tf.Session() as sess:\n",
    "    print(sess.run(sum))"
   ]
  },
  {
   "cell_type": "code",
   "execution_count": 29,
   "metadata": {},
   "outputs": [
    {
     "name": "stdout",
     "output_type": "stream",
     "text": [
      "[[1 2 3 4]\n",
      " [2 3 4 5]]\n",
      "[[1 2 3]\n",
      " [4 5 6]\n",
      " [7 8 9]\n",
      " [2 4 5]]\n",
      "[[38 52 62]\n",
      " [52 71 85]]\n"
     ]
    }
   ],
   "source": [
    "a = tf.constant([[1,2,3,4], [2,3,4,5]])\n",
    "b = tf.constant([[1,2,3], [4,5,6], [7,8,9], [2,4,5]])\n",
    "mul = tf.matmul(a, b)\n",
    "\n",
    "with tf.Session() as sess:\n",
    "    print a.eval()\n",
    "    print b.eval()\n",
    "    print(sess.run(mul))"
   ]
  },
  {
   "cell_type": "markdown",
   "metadata": {
    "collapsed": true
   },
   "source": [
    "### example of using very simple linear training"
   ]
  },
  {
   "cell_type": "code",
   "execution_count": 94,
   "metadata": {},
   "outputs": [
    {
     "name": "stdout",
     "output_type": "stream",
     "text": [
      "W: [ 2.99928832] b: [-1.99505734] loss: 7.67941e-05\n"
     ]
    }
   ],
   "source": [
    "W = tf.Variable([0.0], tf.float32)\n",
    "b = tf.Variable([0.0], tf.float32)\n",
    "x = tf.placeholder(tf.float32)\n",
    "y = tf.placeholder(tf.float32)\n",
    "\n",
    "learning_rate =  0.001\n",
    "x_train = np.linspace(0,10,11).astype(np.float32)\n",
    "y_train = x_train * 3.0 -2\n",
    "\n",
    "output = W*x+b\n",
    "squared_deltas = tf.square(output - y)\n",
    "loss = tf.reduce_sum(squared_deltas)\n",
    "optimizer = tf.train.GradientDescentOptimizer(learning_rate)\n",
    "train = optimizer.minimize(loss)\n",
    "\n",
    "init = tf.global_variables_initializer()\n",
    "\n",
    "with tf.Session() as sess:\n",
    "    sess.run(init)\n",
    "    for i in range(1000):\n",
    "        sess.run(train, {x:x_train, y:y_train})\n",
    "        \n",
    "        \n",
    "    curr_W, curr_b, curr_loss  = sess.run([W, b, loss], {x:x_train, y:y_train})\n",
    "    print(\"W: %s b: %s loss: %s\"%(curr_W, curr_b, curr_loss))"
   ]
  },
  {
   "cell_type": "code",
   "execution_count": 91,
   "metadata": {},
   "outputs": [
    {
     "name": "stdout",
     "output_type": "stream",
     "text": [
      "W: [ 4.99987221] b: [-8.99911213] loss: 2.47714e-06\n"
     ]
    }
   ],
   "source": [
    "W = tf.Variable([0.0], tf.float32)\n",
    "b = tf.Variable([0.0], tf.float32)\n",
    "\n",
    "learning_rate =  0.0015\n",
    "x = np.linspace(0,10,11).astype(np.float32)\n",
    "y = x_train *5.0 - 9.0\n",
    "\n",
    "output = x*W+b\n",
    "squared_deltas = tf.square(output - y)\n",
    "loss = tf.reduce_sum(squared_deltas)\n",
    "optimizer = tf.train.GradientDescentOptimizer(learning_rate)\n",
    "train = optimizer.minimize(loss)\n",
    "\n",
    "init = tf.global_variables_initializer()\n",
    "\n",
    "with tf.Session() as sess:\n",
    "    sess.run(init)\n",
    "    for i in range(1000):\n",
    "        sess.run(train)\n",
    "        \n",
    "    curr_W, curr_b, curr_loss  = sess.run([W, b, loss])\n",
    "    print(\"W: %s b: %s loss: %s\"%(curr_W, curr_b, curr_loss))"
   ]
  },
  {
   "cell_type": "markdown",
   "metadata": {
    "collapsed": true
   },
   "source": [
    "## This is a linear regression example which tensorflow made in their notebook 2.\n",
    "## I added my own comment so i understand it better. It is a  very simple script just showing the basic bits like gradient descent."
   ]
  },
  {
   "cell_type": "code",
   "execution_count": 10,
   "metadata": {},
   "outputs": [
    {
     "data": {
      "image/png": "[encoded data removed]",
      "text/plain": [
       "<matplotlib.figure.Figure at 0x7fb5480fee10>"
      ]
     },
     "metadata": {},
     "output_type": "display_data"
    },
    {
     "name": "stdout",
     "output_type": "stream",
     "text": [
      "y = [ 0.82714355] x + [ 0.48153478]\n"
     ]
    }
   ],
   "source": [
    "# number of of points on the graph\n",
    "num_examples = 100\n",
    "\n",
    "# make arrays x and y with random noise added to them\n",
    "# with the x values from 0-6 and y values form 4-16 without noise\n",
    "X = np.array([np.linspace(0, 6, num_examples), np.linspace(0, 6, num_examples)])\n",
    "X += np.random.randn(2, num_examples)\n",
    "x, y = X\n",
    "\n",
    "# create array with shape 2 by a with first value equaling 1\n",
    "# these are basically the m and c from y = mx+ c\n",
    "x_with_bias = np.array([(1., a) for a in x]).astype(np.float32)\n",
    "\n",
    "# create loss tracker and set  parameters\n",
    "losses = []\n",
    "training_steps = 100\n",
    "learning_rate = 0.001\n",
    "\n",
    "# start session\n",
    "with tf.Session() as sess:\n",
    "    \n",
    "    # set tensorflow values using variable from before\n",
    "    # input is the x values to be put into the equation\n",
    "    # target is the y values in the equation\n",
    "    input = tf.constant(x_with_bias)\n",
    "    target = tf.constant(np.transpose([y]).astype(np.float32))\n",
    "    \n",
    "    # weights are set random at first in a 1 by 2 array\n",
    "    weights = tf.Variable(tf.random_normal([2, 1], 0, 0.1))\n",
    "\n",
    "    # initialize variables\n",
    "    sess.run(tf.global_variables_initializer())\n",
    "\n",
    "    # yhat is the output of function mx + c by multiplying the matrices input(1's and x values) and weights(m and c)\n",
    "    yhat = tf.matmul(input, weights)\n",
    "    # find error by subtracting target from output of equation\n",
    "    yerror = tf.subtract(yhat, target)\n",
    "    # to minimize L2 loss. This is the sum of all the squared errors.\n",
    "    # it effects larger errors a lot more than small errors\n",
    "    loss = tf.nn.l2_loss(yerror)\n",
    "  \n",
    "    # using gradient descent to update weights, weights += grads * learning_rate\n",
    "    # using the partial derivative of the loss to decrease the error\n",
    "    # by finding which direction to move the weights\n",
    "    update_weights = tf.train.GradientDescentOptimizer(learning_rate).minimize(loss)\n",
    "  \n",
    "    # loop number of training steps and run update weights\n",
    "    for _ in range(training_steps):\n",
    "        update_weights.run()\n",
    "        # append to losses array\n",
    "        losses.append(loss.eval())\n",
    "\n",
    "    # get final values from the session\n",
    "    betas = weights.eval()\n",
    "    yhat = yhat.eval()\n",
    "\n",
    "# plot the random points\n",
    "plt.scatter(x, y)\n",
    "# plot the random x values with the new y values\n",
    "plt.scatter(x, np.transpose(yhat)[0], c=\"g\")\n",
    "# set line x range and plot the line\n",
    "line_x_range = (-2, 8)\n",
    "plt.plot(line_x_range, [betas[0] + a * betas[1] for a in line_x_range], \"g\", alpha=0.6)\n",
    "plt.grid(True)\n",
    "plt.show()\n",
    "print 'y =',betas[1],'x +',betas[0]"
   ]
  },
  {
   "cell_type": "code",
   "execution_count": null,
   "metadata": {
    "collapsed": true
   },
   "outputs": [],
   "source": []
  }
 ],
 "metadata": {
  "kernelspec": {
   "display_name": "Python 2",
   "language": "python",
   "name": "python2"
  },
  "language_info": {
   "codemirror_mode": {
    "name": "ipython",
    "version": 2
   },
   "file_extension": ".py",
   "mimetype": "text/x-python",
   "name": "python",
   "nbconvert_exporter": "python",
   "pygments_lexer": "ipython2",
   "version": "2.7.12"
  }
 },
 "nbformat": 4,
 "nbformat_minor": 1
}
