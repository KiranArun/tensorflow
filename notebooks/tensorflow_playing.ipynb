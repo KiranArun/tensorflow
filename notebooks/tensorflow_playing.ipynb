{
 "cells": [
  {
   "cell_type": "code",
   "execution_count": 9,
   "metadata": {
    "collapsed": false
   },
   "outputs": [],
   "source": [
    "import numpy as np\n",
    "import time\n",
    "import matplotlib.pyplot as plt\n",
    "import tensorflow as tf\n",
    "from scipy import integrate\n",
    "from IPython import display\n",
    "%matplotlib inline"
   ]
  },
  {
   "cell_type": "code",
   "execution_count": 11,
   "metadata": {
    "collapsed": false
   },
   "outputs": [
    {
     "name": "stdout",
     "output_type": "stream",
     "text": [
      "[81 25 49 81 49 81  4  4  1 81]\n"
     ]
    }
   ],
   "source": [
    "data = np.random.randint(1,10, size=10)\n",
    "x = tf.constant(data, name='x')\n",
    "y = tf.Variable(x**2, name='y')\n",
    "\n",
    "model = tf.global_variables_initializer()\n",
    "\n",
    "with tf.Session() as session:\n",
    "    session.run(model)\n",
    "    print(session.run(y))"
   ]
  },
  {
   "cell_type": "code",
   "execution_count": 20,
   "metadata": {
    "collapsed": false
   },
   "outputs": [
    {
     "name": "stdout",
     "output_type": "stream",
     "text": [
      "1\n",
      "4\n",
      "9\n",
      "16\n",
      "25\n"
     ]
    }
   ],
   "source": [
    "x = tf.Variable(0, name='x')\n",
    "y = tf.Variable(0, name='y')\n",
    "\n",
    "model = tf.global_variables_initializer()\n",
    "\n",
    "with tf.Session() as session:\n",
    "    for i in range(5):\n",
    "        session.run(model)\n",
    "        x += 1\n",
    "        y = x**2\n",
    "        print(session.run(y))"
   ]
  },
  {
   "cell_type": "code",
   "execution_count": 10,
   "metadata": {
    "collapsed": false
   },
   "outputs": [
    {
     "name": "stdout",
     "output_type": "stream",
     "text": [
      "341\n",
      "545\n",
      "681\n",
      "606\n",
      "499\n"
     ]
    }
   ],
   "source": [
    "n = tf.Variable(0, name='n')\n",
    "a = tf.Variable(0, name='a')\n",
    "t = tf.Variable(0, name='t')\n",
    "\n",
    "model = tf.global_variables_initializer()\n",
    "\n",
    "with tf.Session() as sess:\n",
    "    for i in range(5):\n",
    "        n += 1\n",
    "        r = np.random.randint(1000)\n",
    "        t = t+r\n",
    "        a = t/n\n",
    "        sess.run(model)\n",
    "        print(sess.run(a))"
   ]
  },
  {
   "cell_type": "code",
   "execution_count": 16,
   "metadata": {
    "collapsed": false
   },
   "outputs": [
    {
     "name": "stdout",
     "output_type": "stream",
     "text": [
      "Tensor(\"x_2:0\", shape=(), dtype=int32)\n",
      "40\n"
     ]
    }
   ],
   "source": [
    "x = tf.constant(35, name='x')\n",
    "print(x)\n",
    "y = tf.Variable(x + 5, name='y')\n",
    "\n",
    "with tf.Session() as sess:\n",
    "    merged = tf.summary.merge_all()\n",
    "    writer = tf.summary.FileWriter(\"/tmp/basic\", sess.graph)\n",
    "    model =  tf.global_variables_initializer()\n",
    "    sess.run(model)\n",
    "    print(sess.run(y))"
   ]
  },
  {
   "cell_type": "code",
   "execution_count": 3,
   "metadata": {
    "collapsed": false
   },
   "outputs": [
    {
     "name": "stdout",
     "output_type": "stream",
     "text": [
      "[ 1.  4.  9.]\n"
     ]
    }
   ],
   "source": [
    "x = tf.placeholder(\"float\", 3)\n",
    "y = x ** 2\n",
    "\n",
    "with tf.Session() as sess:\n",
    "    result = sess.run(y, feed_dict={x: [1, 2, 3]})\n",
    "    print(result)"
   ]
  },
  {
   "cell_type": "code",
   "execution_count": 15,
   "metadata": {
    "collapsed": false
   },
   "outputs": [
    {
     "data": {
      "image/png": "[encoded data removed]",
      "text/plain": [
       "<matplotlib.figure.Figure at 0x7fa9c45babd0>"
      ]
     },
     "metadata": {},
     "output_type": "display_data"
    },
    {
     "name": "stdout",
     "output_type": "stream",
     "text": [
      "[[ 5.39077997]\n",
      " [ 1.54807591]]\n"
     ]
    }
   ],
   "source": [
    "import tensorflow as tf         \n",
    "import numpy as np\n",
    "import matplotlib.pyplot as plt\n",
    "\n",
    "%matplotlib inline\n",
    "\n",
    "num_examples = 100    #100 points\n",
    "X = np.array([np.linspace(0, 6, num_examples), np.linspace(4, 16, num_examples)]) #array with 0-6 and 0-12\n",
    "X += np.random.randn(2, num_examples) #add random numbers, 2 dimensions to X\n",
    "x, y = X                              #split X into x and y\n",
    "x_with_bias = np.array([(1., a) for a in x]).astype(np.float32) #array of [1., a] 2 by 100, the 1 is multiplied by the c weight\n",
    "\n",
    "losses = []\n",
    "training_steps = 5000\n",
    "learning_rate = 0.001 #rate fo learning\n",
    "\n",
    "with tf.Session() as sess:\n",
    "    input = tf.constant(x_with_bias)\n",
    "    target = tf.constant(np.transpose([y]).astype(np.float32)) #y but instead of 50 by 1, its 1 by 50\n",
    "    weights = tf.Variable(tf.random_normal([2, 1], 0, 0.1)) #random weights value, 2 by 1, mean 0, standard deviation 0.1\n",
    "\n",
    "    tf.global_variables_initializer().run()\n",
    "\n",
    "    yhat = tf.matmul(input, weights) #multiply x_with_bias by the weights\n",
    "    yerror = tf.sub(yhat, target) #error is the target - yhat\n",
    "    loss = tf.nn.l2_loss(yerror) #the error is squared and halved to punish bigger mistakes more\n",
    "  \n",
    "    update_weights = tf.train.GradientDescentOptimizer(learning_rate).minimize(loss)\n",
    "  \n",
    "    for _ in range(training_steps): #100 steps\n",
    "        update_weights.run() #run update wieghts\n",
    "        losses.append(loss.eval()) #append to losses with the loss (the l2 error)\n",
    "\n",
    "    betas = weights.eval() #betas is the weights\n",
    "    yhat = yhat.eval()\n",
    "\n",
    "plt.scatter(x, y) #plot points\n",
    "plt.scatter(x, np.transpose(yhat)[0], c=\"g\") #plot points with weights applied\n",
    "line_x_range = (-2, 8)\n",
    "plt.plot(line_x_range, [betas[0] + a * betas[1] for a in line_x_range], \"g\", alpha=0.6) #draw line with weights from -2 to 8\n",
    "plt.grid(True)\n",
    "plt.show()\n",
    "print betas"
   ]
  },
  {
   "cell_type": "code",
   "execution_count": 39,
   "metadata": {
    "collapsed": false
   },
   "outputs": [
    {
     "name": "stdout",
     "output_type": "stream",
     "text": [
      "Extracting /temp/data/train-images-idx3-ubyte.gz\n",
      "Extracting /temp/data/train-labels-idx1-ubyte.gz\n",
      "Extracting /temp/data/t10k-images-idx3-ubyte.gz\n",
      "Extracting /temp/data/t10k-labels-idx1-ubyte.gz\n",
      "Iteration: 0001 cost= 29.860465115\n",
      "Iteration: 0003 cost= 20.986357887\n",
      "Iteration: 0005 cost= 20.249457015\n",
      "Iteration: 0007 cost= 19.653779720\n",
      "Iteration: 0009 cost= 19.366848830\n",
      "Iteration: 0011 cost= 19.173188326\n",
      "Iteration: 0013 cost= 18.855155920\n",
      "Iteration: 0015 cost= 18.810067159\n",
      "Iteration: 0017 cost= 18.602112344\n",
      "Iteration: 0019 cost= 18.547303598\n",
      "Iteration: 0021 cost= 18.448906765\n",
      "Iteration: 0023 cost= 18.329639615\n",
      "Iteration: 0025 cost= 18.223240460\n",
      "Iteration: 0027 cost= 18.212469102\n",
      "Iteration: 0029 cost= 18.133737981\n",
      "tuning complete\n",
      "Accuracy: 0.9218\n"
     ]
    }
   ],
   "source": [
    "import tensorflow as tf\n",
    "import numpy as np\n",
    "import matplotlib.pyplot as plt\n",
    "from tensorflow.examples.tutorials.mnist import input_data\n",
    "mnist = input_data.read_data_sets(\"/temp/data/\", one_hot=True)\n",
    "%matplotlib inline\n",
    "\n",
    "learning_rate = 0.01\n",
    "training_iteration = 30\n",
    "batch_size = 100\n",
    "display_step = 2\n",
    "\n",
    "x = tf.placeholder(\"float\", [None, 784])\n",
    "y = tf.placeholder(\"float\", [None, 10])\n",
    "\n",
    "W = tf.Variable(tf.zeros([784, 10]))\n",
    "b = tf.Variable(tf.zeros([10]))\n",
    "\n",
    "with tf.name_scope(\"Wx_b\") as scope:\n",
    "    model = tf.nn.softmax(tf.matmul(x, W) + b)\n",
    "    \n",
    "w_h = tf.summary.histogram(\"weights\", W)\n",
    "b_h = tf.summary.histogram(\"biases\", b)\n",
    "\n",
    "with tf.name_scope(\"cost_function\") as scope:\n",
    "    cost_function = -tf.reduce_sum(y*tf.log(model))\n",
    "    \n",
    "    tf.summary.scalar(\"cost_function\", cost_function)\n",
    "    \n",
    "with tf.name_scope(\"train\") as scope:\n",
    "    optimizer = tf.train.GradientDescentOptimizer(learning_rate).minimize(cost_function)\n",
    "    \n",
    "init = tf.global_variables_initializer()\n",
    "\n",
    "merged_summary_op = tf.summary.merge_all()\n",
    "\n",
    "with tf.Session() as sess:\n",
    "    sess.run(init)\n",
    "    \n",
    "    summary_writer = tf.summary.FileWriter('/home/logdir', graph=sess.graph)\n",
    "    \n",
    "    for iteration in range(training_iteration):\n",
    "        avg_cost = 0.\n",
    "        total_batch = int(mnist.train.num_examples/batch_size)\n",
    "        \n",
    "        for i in range(total_batch):\n",
    "            batch_xs, batch_ys = mnist.train.next_batch(batch_size)\n",
    "            \n",
    "            sess.run(optimizer, feed_dict={x: batch_xs, y: batch_ys})\n",
    "            avg_cost += sess.run(cost_function, feed_dict={x: batch_xs, y: batch_ys})/total_batch\n",
    "            \n",
    "            #summary_str = sess.run(merged_summary_op, feed_dict={x: batch_xs, y: batch_ys})\n",
    "            #summary_writer.add_summary(summary_str, iteration*total_batch + 1)\n",
    "            \n",
    "        if iteration % display_step == 0:\n",
    "            print \"Iteration:\", '%04d' % (iteration + 1), 'cost=', \"{:.9f}\".format(avg_cost)\n",
    "            \n",
    "    print \"tuning complete\"\n",
    "    \n",
    "    predictions = tf.equal(tf.argmax(model, 1), tf.argmax(y, 1))\n",
    "    \n",
    "    accuracy = tf.reduce_mean(tf.cast(predictions, \"float\"))\n",
    "    print \"Accuracy:\", accuracy.eval({x: mnist.test.images, y: mnist.test.labels})\n"
   ]
  },
  {
   "cell_type": "code",
   "execution_count": 41,
   "metadata": {
    "collapsed": false
   },
   "outputs": [
    {
     "name": "stdout",
     "output_type": "stream",
     "text": [
      "Extracting /temp/data/train-images-idx3-ubyte.gz\n",
      "Extracting /temp/data/train-labels-idx1-ubyte.gz\n",
      "Extracting /temp/data/t10k-images-idx3-ubyte.gz\n",
      "Extracting /temp/data/t10k-labels-idx1-ubyte.gz\n",
      "Iteration: 0001 cost= 29.860465115\n",
      "Iteration: 0003 cost= 21.066546144\n",
      "Iteration: 0005 cost= 20.069845579\n",
      "Iteration: 0007 cost= 19.660262473\n",
      "Iteration: 0009 cost= 19.345162941\n",
      "Iteration: 0011 cost= 19.125064370\n",
      "Iteration: 0013 cost= 18.878493691\n",
      "Iteration: 0015 cost= 18.668790548\n",
      "Iteration: 0017 cost= 18.717317753\n",
      "Iteration: 0019 cost= 18.488762749\n",
      "Iteration: 0021 cost= 18.354010411\n",
      "Iteration: 0023 cost= 18.323504581\n",
      "Iteration: 0025 cost= 18.235226945\n",
      "Iteration: 0027 cost= 18.227519084\n",
      "Iteration: 0029 cost= 18.089459886\n",
      "tuning complete\n",
      "Accuracy: 0.9228\n"
     ]
    }
   ],
   "source": [
    "import tensorflow as tf\n",
    "import numpy as np\n",
    "import matplotlib.pyplot as plt\n",
    "from tensorflow.examples.tutorials.mnist import input_data\n",
    "mnist = input_data.read_data_sets(\"/temp/data/\", one_hot=True)\n",
    "%matplotlib inline\n",
    "\n",
    "learning_rate = 0.01\n",
    "training_iteration = 30\n",
    "batch_size = 100\n",
    "display_step = 2\n",
    "\n",
    "x = tf.placeholder(\"float\", [None, 784])\n",
    "y = tf.placeholder(\"float\", [None, 10])\n",
    "\n",
    "W = tf.Variable(tf.zeros([784, 10]))\n",
    "b = tf.Variable(tf.zeros([10]))\n",
    "\n",
    "with tf.name_scope(\"Wx_b\") as scope:\n",
    "    model = tf.nn.softmax(tf.matmul(x, W) + b)\n",
    "    \n",
    "w_h = tf.summary.histogram(\"weights\", W)\n",
    "b_h = tf.summary.histogram(\"biases\", b)\n",
    "\n",
    "\n",
    "cost_function = -tf.reduce_sum(y*tf.log(model))\n",
    "    \n",
    "tf.summary.scalar(\"cost_function\", cost_function)\n",
    "    \n",
    "\n",
    "optimizer = tf.train.GradientDescentOptimizer(learning_rate).minimize(cost_function)\n",
    "    \n",
    "init = tf.global_variables_initializer()\n",
    "\n",
    "merged_summary_op = tf.summary.merge_all()\n",
    "\n",
    "with tf.Session() as sess:\n",
    "    sess.run(init)\n",
    "    \n",
    "    for iteration in range(training_iteration):\n",
    "        avg_cost = 0.\n",
    "        total_batch = int(mnist.train.num_examples/batch_size)\n",
    "        \n",
    "        for i in range(total_batch):\n",
    "            batch_xs, batch_ys = mnist.train.next_batch(batch_size)\n",
    "            \n",
    "            sess.run(optimizer, feed_dict={x: batch_xs, y: batch_ys})\n",
    "            avg_cost += sess.run(cost_function, feed_dict={x: batch_xs, y: batch_ys})/total_batch\n",
    "            \n",
    "        if iteration % display_step == 0:\n",
    "            print \"Iteration:\", '%04d' % (iteration + 1), 'cost=', \"{:.9f}\".format(avg_cost)\n",
    "            \n",
    "    print \"tuning complete\"\n",
    "    \n",
    "    predictions = tf.equal(tf.argmax(model, 1), tf.argmax(y, 1))\n",
    "    \n",
    "    accuracy = tf.reduce_mean(tf.cast(predictions, \"float\"))\n",
    "    print \"Accuracy:\", accuracy.eval({x: mnist.test.images, y: mnist.test.labels})\n"
   ]
  },
  {
   "cell_type": "code",
   "execution_count": null,
   "metadata": {
    "collapsed": true
   },
   "outputs": [],
   "source": []
  }
 ],
 "metadata": {
  "kernelspec": {
   "display_name": "Python 2",
   "language": "python",
   "name": "python2"
  },
  "language_info": {
   "codemirror_mode": {
    "name": "ipython",
    "version": 2
   },
   "file_extension": ".py",
   "mimetype": "text/x-python",
   "name": "python",
   "nbconvert_exporter": "python",
   "pygments_lexer": "ipython2",
   "version": "2.7.6"
  }
 },
 "nbformat": 4,
 "nbformat_minor": 1
}
