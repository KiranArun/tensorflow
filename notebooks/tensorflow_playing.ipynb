{
 "cells": [
  {
   "cell_type": "code",
   "execution_count": 3,
   "metadata": {
    "collapsed": false
   },
   "outputs": [],
   "source": [
    "import numpy as np\n",
    "import time\n",
    "import matplotlib.pyplot as plt\n",
    "import tensorflow as tf\n",
    "from scipy import integrate\n",
    "from IPython import display\n",
    "%matplotlib inline"
   ]
  },
  {
   "cell_type": "code",
   "execution_count": 11,
   "metadata": {
    "collapsed": false
   },
   "outputs": [
    {
     "name": "stdout",
     "output_type": "stream",
     "text": [
      "[81 25 49 81 49 81  4  4  1 81]\n"
     ]
    }
   ],
   "source": [
    "data = np.random.randint(1,10, size=10)\n",
    "x = tf.constant(data, name='x')\n",
    "y = tf.Variable(x**2, name='y')\n",
    "\n",
    "model = tf.global_variables_initializer()\n",
    "\n",
    "with tf.Session() as session:\n",
    "    session.run(model)\n",
    "    print(session.run(y))"
   ]
  },
  {
   "cell_type": "code",
   "execution_count": null,
   "metadata": {
    "collapsed": true
   },
   "outputs": [],
   "source": []
  },
  {
   "cell_type": "code",
   "execution_count": 20,
   "metadata": {
    "collapsed": false
   },
   "outputs": [
    {
     "name": "stdout",
     "output_type": "stream",
     "text": [
      "1\n",
      "4\n",
      "9\n",
      "16\n",
      "25\n"
     ]
    }
   ],
   "source": [
    "x = tf.Variable(0, name='x')\n",
    "y = tf.Variable(0, name='y')\n",
    "\n",
    "model = tf.global_variables_initializer()\n",
    "\n",
    "with tf.Session() as session:\n",
    "    for i in range(5):\n",
    "        session.run(model)\n",
    "        x += 1\n",
    "        y = x**2\n",
    "        print(session.run(y))"
   ]
  },
  {
   "cell_type": "code",
   "execution_count": 10,
   "metadata": {
    "collapsed": false
   },
   "outputs": [
    {
     "name": "stdout",
     "output_type": "stream",
     "text": [
      "341\n",
      "545\n",
      "681\n",
      "606\n",
      "499\n"
     ]
    }
   ],
   "source": [
    "n = tf.Variable(0, name='n')\n",
    "a = tf.Variable(0, name='a')\n",
    "t = tf.Variable(0, name='t')\n",
    "\n",
    "model = tf.global_variables_initializer()\n",
    "\n",
    "with tf.Session() as sess:\n",
    "    for i in range(5):\n",
    "        n += 1\n",
    "        r = np.random.randint(1000)\n",
    "        t = t+r\n",
    "        a = t/n\n",
    "        sess.run(model)\n",
    "        print(sess.run(a))"
   ]
  },
  {
   "cell_type": "code",
   "execution_count": 23,
   "metadata": {
    "collapsed": false
   },
   "outputs": [
    {
     "name": "stdout",
     "output_type": "stream",
     "text": [
      "Tensor(\"x:0\", shape=(), dtype=int32)\n",
      "40\n"
     ]
    }
   ],
   "source": [
    "x = tf.constant(35, name='x')\n",
    "print(x)\n",
    "y = tf.Variable(x + 5, name='y')\n",
    "\n",
    "with tf.Session() as sess:\n",
    "    merged = tf.summary.merge_all()\n",
    "    writer = tf.summary.FileWriter(\"/tmp/basic\", sess.graph)\n",
    "    model =  tf.global_variables_initializer()\n",
    "    sess.run(model)\n",
    "    print(sess.run(y))"
   ]
  },
  {
   "cell_type": "code",
   "execution_count": 3,
   "metadata": {
    "collapsed": false
   },
   "outputs": [
    {
     "name": "stdout",
     "output_type": "stream",
     "text": [
      "[ 1.  4.  9.]\n"
     ]
    }
   ],
   "source": [
    "x = tf.placeholder(\"float\", 3)\n",
    "y = x ** 2\n",
    "\n",
    "with tf.Session() as sess:\n",
    "    result = sess.run(y, feed_dict={x: [1, 2, 3]})\n",
    "    print(result)"
   ]
  },
  {
   "cell_type": "code",
   "execution_count": 4,
   "metadata": {
    "collapsed": false
   },
   "outputs": [
    {
     "data": {
      "image/png": "[encoded data removed]",
      "text/plain": [
       "<matplotlib.figure.Figure at 0x7fa7c176dd10>"
      ]
     },
     "metadata": {},
     "output_type": "display_data"
    }
   ],
   "source": [
    "import tensorflow as tf         \n",
    "import numpy as np\n",
    "import matplotlib.pyplot as plt\n",
    "\n",
    "%matplotlib inline\n",
    "\n",
    "num_examples = 100    #100 points\n",
    "X = np.array([np.linspace(0, 6, num_examples), np.linspace(4, 16, num_examples)]) #array with 0-6 and 0-12\n",
    "X += np.random.randn(2, num_examples) #add random numbers, 2 dimensions to X\n",
    "x, y = X                              #split X into x and y\n",
    "x_with_bias = np.array([(1., a) for a in x]).astype(np.float32) #array of [1., a] 2 by 100, the 1 is multiplied by the c weight\n",
    "\n",
    "losses = []\n",
    "training_steps = 5000\n",
    "learning_rate = 0.001 #rate fo learning\n",
    "\n",
    "with tf.Session() as sess:\n",
    "    input = tf.constant(x_with_bias)\n",
    "    target = tf.constant(np.transpose([y]).astype(np.float32)) #y but instead of 50 by 1, its 1 by 50\n",
    "    weights = tf.Variable(tf.random_normal([2, 1], 0, 0.1)) #random weights value, 2 by 1, mean 0, standard deviation 0.1\n",
    "\n",
    "    tf.global_variables_initializer().run()\n",
    "\n",
    "    yhat = tf.matmul(input, weights) #multiply x_with_bias by the weights\n",
    "    yerror = tf.sub(yhat, target) #error is the target - yhat\n",
    "    loss = tf.nn.l2_loss(yerror) #the error is squared and halved to punish bigger mistakes more\n",
    "  \n",
    "    update_weights = tf.train.GradientDescentOptimizer(learning_rate).minimize(loss)\n",
    "  \n",
    "    for _ in range(training_steps): #100 steps\n",
    "        update_weights.run() #run update wieghts\n",
    "        losses.append(loss.eval()) #append to losses with the loss (the l2 error)\n",
    "\n",
    "    betas = weights.eval() #betas is the weights\n",
    "    yhat = yhat.eval()\n",
    "\n",
    "plt.scatter(x, y) #plot points\n",
    "plt.scatter(x, np.transpose(yhat)[0], c=\"g\") #plot points with weights applied\n",
    "line_x_range = (-2, 8)\n",
    "plt.plot(line_x_range, [betas[0] + a * betas[1] for a in line_x_range], \"g\", alpha=0.6) #draw line with weights from -2 to 8\n",
    "plt.grid(True)\n",
    "plt.show()"
   ]
  },
  {
   "cell_type": "code",
   "execution_count": 24,
   "metadata": {
    "collapsed": false
   },
   "outputs": [
    {
     "ename": "SyntaxError",
     "evalue": "invalid syntax (<ipython-input-24-0d89abe8dbac>, line 24)",
     "output_type": "error",
     "traceback": [
      "\u001b[0;36m  File \u001b[0;32m\"<ipython-input-24-0d89abe8dbac>\"\u001b[0;36m, line \u001b[0;32m24\u001b[0m\n\u001b[0;31m    yhat = tf.\u001b[0m\n\u001b[0m              ^\u001b[0m\n\u001b[0;31mSyntaxError\u001b[0m\u001b[0;31m:\u001b[0m invalid syntax\n"
     ]
    }
   ],
   "source": [
    "import tensorflow as tf         \n",
    "import numpy as np\n",
    "import matplotlib.pyplot as plt\n",
    "\n",
    "%matplotlib inline\n",
    "\n",
    "num_examples = 50\n",
    "X = np.array([np.linspace(0, 6, num_examples), np.linspace(4, 16, num_examples)])\n",
    "X += np.random.randn(2, num_examples)\n",
    "x, y = X\n",
    "x_with_bias = np.array([(1., a) for a in x]).astype(np.float32)\n",
    "training_steps = 50\n",
    "learning_rate = 0.001\n",
    "\n",
    "with tf.Session() as sess:\n",
    "    \n",
    "    input = tf.constant(x_with_bias)\n",
    "    target = tf.constant(np.transpose([y]).astype(np.float32))\n",
    "    weights = tf.Variable(tf.random_normal([2, 1], 0, 0.1))\n",
    "    \n",
    "    tf.global_variables_initializer().run()\n",
    "    \n",
    "    #yhat = tf.matmul(input, weights)\n",
    "    yhat = tf.\n",
    "    \n",
    "    \n",
    "    yerror = tf.sub(yhat, target)\n",
    "    loss = tf.nn.l2_loss(yerror)\n",
    "    \n",
    "    update_weights = tf.train.GradientDescentOptimizer(learning_rate).minimize(loss)\n",
    "    \n",
    "    for _ in range(training_steps):\n",
    "        update_weights.run()\n",
    "\n",
    "    betas = weights.eval()\n",
    "    yhat = yhat.eval()\n",
    "    \n",
    "plt.scatter(x, y)\n",
    "plt.scatter(x, np.transpose(yhat)[0], c=\"g\")\n",
    "line_x_range = (-2, 8)\n",
    "plt.plot(line_x_range, [betas[0] + a * betas[1] + a ** betas[2] for a in line_x_range], \"g\", alpha=0.6)\n",
    "plt.grid(True)\n",
    "plt.show()\n",
    "print betas"
   ]
  },
  {
   "cell_type": "code",
   "execution_count": null,
   "metadata": {
    "collapsed": false
   },
   "outputs": [],
   "source": [
    "a = tf."
   ]
  },
  {
   "cell_type": "code",
   "execution_count": null,
   "metadata": {
    "collapsed": true
   },
   "outputs": [],
   "source": []
  }
 ],
 "metadata": {
  "kernelspec": {
   "display_name": "Python 2",
   "language": "python",
   "name": "python2"
  },
  "language_info": {
   "codemirror_mode": {
    "name": "ipython",
    "version": 2
   },
   "file_extension": ".py",
   "mimetype": "text/x-python",
   "name": "python",
   "nbconvert_exporter": "python",
   "pygments_lexer": "ipython2",
   "version": "2.7.6"
  }
 },
 "nbformat": 4,
 "nbformat_minor": 1
}
